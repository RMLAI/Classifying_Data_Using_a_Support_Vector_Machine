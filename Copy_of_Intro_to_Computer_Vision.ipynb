{
  "nbformat": 4,
  "nbformat_minor": 0,
  "metadata": {
    "colab": {
      "name": "Copy of Intro to Computer Vision.ipynb",
      "provenance": [],
      "collapsed_sections": [],
      "authorship_tag": "ABX9TyPQbzndk2fhONVITP5FryNr",
      "include_colab_link": true
    },
    "kernelspec": {
      "name": "python3",
      "display_name": "Python 3"
    },
    "accelerator": "GPU"
  },
  "cells": [
    {
      "cell_type": "markdown",
      "metadata": {
        "id": "view-in-github",
        "colab_type": "text"
      },
      "source": [
        "<a href=\"https://colab.research.google.com/github/RMLAI/Classifying_Data_Using_a_Support_Vector_Machine/blob/master/Copy_of_Intro_to_Computer_Vision.ipynb\" target=\"_parent\"><img src=\"https://colab.research.google.com/assets/colab-badge.svg\" alt=\"Open In Colab\"/></a>"
      ]
    },
    {
      "cell_type": "code",
      "metadata": {
        "id": "ZKammbQJB1ZU",
        "colab_type": "code",
        "colab": {
          "base_uri": "https://localhost:8080/",
          "height": 34
        },
        "outputId": "d3a5d9dd-4acf-4652-ddd2-f8f00dcfd0a5"
      },
      "source": [
        "#Importing Tensorflow\n",
        "import tensorflow as tf\n",
        "print(tf.__version__)"
      ],
      "execution_count": 1,
      "outputs": [
        {
          "output_type": "stream",
          "text": [
            "2.2.0\n"
          ],
          "name": "stdout"
        }
      ]
    },
    {
      "cell_type": "code",
      "metadata": {
        "id": "fkqxKpdDkTJ-",
        "colab_type": "code",
        "colab": {}
      },
      "source": [
        "#Load the fashion MNIST dataset\n",
        "mnist = tf.keras.datasets.fashion_mnist"
      ],
      "execution_count": 3,
      "outputs": []
    },
    {
      "cell_type": "code",
      "metadata": {
        "id": "61Teg1CMkh-v",
        "colab_type": "code",
        "colab": {
          "base_uri": "https://localhost:8080/",
          "height": 153
        },
        "outputId": "4b3fab6b-90fb-48fd-c774-0c7f836b1283"
      },
      "source": [
        "#Loading the data gives 2 sets of lists, one is training data , other is testing data\n",
        "(training_images,training_labels),(test_images,test_labels)=mnist.load_data()"
      ],
      "execution_count": 4,
      "outputs": [
        {
          "output_type": "stream",
          "text": [
            "Downloading data from https://storage.googleapis.com/tensorflow/tf-keras-datasets/train-labels-idx1-ubyte.gz\n",
            "32768/29515 [=================================] - 0s 0us/step\n",
            "Downloading data from https://storage.googleapis.com/tensorflow/tf-keras-datasets/train-images-idx3-ubyte.gz\n",
            "26427392/26421880 [==============================] - 0s 0us/step\n",
            "Downloading data from https://storage.googleapis.com/tensorflow/tf-keras-datasets/t10k-labels-idx1-ubyte.gz\n",
            "8192/5148 [===============================================] - 0s 0us/step\n",
            "Downloading data from https://storage.googleapis.com/tensorflow/tf-keras-datasets/t10k-images-idx3-ubyte.gz\n",
            "4423680/4422102 [==============================] - 0s 0us/step\n"
          ],
          "name": "stdout"
        }
      ]
    },
    {
      "cell_type": "code",
      "metadata": {
        "id": "9Ir_WQ-blZfx",
        "colab_type": "code",
        "colab": {
          "base_uri": "https://localhost:8080/",
          "height": 758
        },
        "outputId": "6e700b39-f193-42b6-bb42-2e78925e2ed8"
      },
      "source": [
        "#Lets look at some of the images\n",
        "import numpy as np\n",
        "np.set_printoptions(linewidth=200)\n",
        "import matplotlib.pyplot as plt\n",
        "plt.imshow(training_images[18])\n",
        "print(training_images[18])\n",
        "print(training_labels[18])"
      ],
      "execution_count": 5,
      "outputs": [
        {
          "output_type": "stream",
          "text": [
            "[[  0   0   0   2   0   2   0   0   6  36  79  24   0   0   0   0   0  31  73   1   0   0   0   2   0   0   0   0]\n",
            " [  0   0   0   1   2   0   0 153 160 153 176 189 188 194 145 154 149 192 179 145 161  83   0   0   2   0   0   0]\n",
            " [  0   0   0   2   0   0 135 170 144 150 147 162 187 106   1 200 177 166 146 149 151 169 113   0   3   0   0   0]\n",
            " [  0   0   0   4   0  34 179 149 151 150 145 135 169 136  86 190 156 143 146 148 146 143 157   3   0   3   0   0]\n",
            " [  0   0   0   0   0 101 177 160 152 155 150 148 144 156 163 141 154 152 150 145 147 144 163  64   0   4   0   0]\n",
            " [  0   0   0   0   0 143 178 171 154 156 149 145 149 149 145 148 147 152 148 137 152 155 162 108   0   0   0   0]\n",
            " [  0   0   0   0   0 178 174 176 163 155 144 141 146 149 140 146 143 143 139 144 150 161 163 129   0   0   0   0]\n",
            " [  0   0   0   0   5 166 180 174 190 161 147 146 149 149 147 147 149 147 143 144 157 179 150 163   0   0   0   0]\n",
            " [  0   0   0   0  30 176 178 186 208 151 149 151 154 152 152 151 152 149 141 134 194 183 155 179   0   0   0   0]\n",
            " [  0   0   0   0  80 181 182 196 212 147 152 150 152 151 151 151 151 147 142 131 190 198 159 160  32   0   0   0]\n",
            " [  0   0   0   0 103 182 175 206 197 152 148 150 153 154 153 150 149 142 143 136 183 224 160 161  80   0   0   0]\n",
            " [  0   0   0   0 138 187 174 225 187 150 152 152 155 154 156 154 154 147 150 131 186 227 159 162 119   0   0   0]\n",
            " [  0   0   0   0 164 195 171 235 180 154 153 153 157 157 158 152 152 147 143 137 169 232 161 173 144   0   0   0]\n",
            " [  0   0   0   0 182 200 171 231 170 154 155 157 159 159 160 157 155 144 149 142 157 232 166 187 170   0   0   0]\n",
            " [  0   0   0   0 191 201 180 251 159 157 157 157 157 159 163 152 152 147 148 148 148 226 174 193 172   0   0   0]\n",
            " [  0   0   0   7 191 209 200 203 143 166 159 157 160 162 158 156 156 143 147 154 131 215 194 195 169   5   0   0]\n",
            " [  0   0   0  24 191 212 213 212 148 166 156 155 158 161 158 156 153 145 153 148 142 204 232 184 175  27   0   0]\n",
            " [  0   0   0  40 198 213 224 193 155 162 159 157 157 164 160 160 154 145 152 154 140 161 234 178 178  38   0   0]\n",
            " [  0   0   0  46 193 224 231 122 168 163 161 159 163 171 165 169 164 152 160 155 147 124 246 190 184  49   0   0]\n",
            " [  0   0   0  42 193 225 227 115 172 150 152 150 154 152 149 156 163 152 140 139 168  87 231 195 178  63   0   0]\n",
            " [  0   0   0  52 188 217 224 107 178 174 156 165 184 162 180 174 161 171 182 166 180  86 255 186 170  72   0   0]\n",
            " [  0   0   0  58 207 232 229 120 177 181 152 160 189 183 223 167 139 156 173 179 178  62 230 146 183  78   0   0]\n",
            " [  0   0   0  70 219 232 234 175 156 185 146 164 186 186 203 155 151 160 155 198 182 131 237 164 176 101   0   0]\n",
            " [  0   0   0  91 183 198 212 151 159 178 155 159 187 195 191 152 156 156 140 210 191 137 226 203 199 100   0   0]\n",
            " [  0   0   0  98 189 192 219 150 149 166 147 148 187 211 178 152 157 148 143 188 187 125 213 200 192  96   0   0]\n",
            " [  0   0   0  87 203 171 207 171 183 172 168 165 176 199 185 161 161 161 170 187 186 155 209 195 175  63   0   0]\n",
            " [  0   0   0  44 193 217  84  80  99  79  88 125 203 171 169 199 181 186 116 118 133 114 170 221 179   4   0   0]\n",
            " [  0   0   0   0  74 133   6   0   0   0   0   0   0   0   0   0   0   0   0   0   0   0  15 160 100   0   0   0]]\n",
            "6\n"
          ],
          "name": "stdout"
        },
        {
          "output_type": "display_data",
          "data": {
            "image/png": "[encoded data removed]",
            "text/plain": [
              "<Figure size 432x288 with 1 Axes>"
            ]
          },
          "metadata": {
            "tags": [],
            "needs_background": "light"
          }
        }
      ]
    },
    {
      "cell_type": "code",
      "metadata": {
        "id": "tyb_H5IQmfp-",
        "colab_type": "code",
        "colab": {}
      },
      "source": [
        "#normalizing the data\n",
        "training_images=training_images/255.0\n",
        "test_images=test_images/255.0"
      ],
      "execution_count": null,
      "outputs": []
    },
    {
      "cell_type": "code",
      "metadata": {
        "id": "QjzWGeG7m6y_",
        "colab_type": "code",
        "colab": {}
      },
      "source": [
        "#building the model\n",
        "model=tf.keras.models.Sequential([tf.keras.layers.Flatten(),\n",
        "                                  tf.keras.layers.Dense(1024,activation=tf.nn.relu),\n",
        "                                  tf.keras.layers.Dense(10,activation=tf.nn.softmax)])"
      ],
      "execution_count": null,
      "outputs": []
    },
    {
      "cell_type": "code",
      "metadata": {
        "id": "94vqL_dgoKja",
        "colab_type": "code",
        "colab": {
          "base_uri": "https://localhost:8080/",
          "height": 374
        },
        "outputId": "07098fdc-9b8a-44f7-a787-be63e5323da4"
      },
      "source": [
        "#compiling and fitting the model\n",
        "model.compile(optimizer=tf.optimizers.Adam(),\n",
        "              loss = 'sparse_categorical_crossentropy',\n",
        "              metrics=['accuracy'])\n",
        "model.fit(training_images,training_labels,epochs=10)\n"
      ],
      "execution_count": null,
      "outputs": [
        {
          "output_type": "stream",
          "text": [
            "Epoch 1/10\n",
            "1875/1875 [==============================] - 4s 2ms/step - loss: 0.4710 - accuracy: 0.8314\n",
            "Epoch 2/10\n",
            "1875/1875 [==============================] - 4s 2ms/step - loss: 0.3552 - accuracy: 0.8701\n",
            "Epoch 3/10\n",
            "1875/1875 [==============================] - 4s 2ms/step - loss: 0.3209 - accuracy: 0.8806\n",
            "Epoch 4/10\n",
            "1875/1875 [==============================] - 4s 2ms/step - loss: 0.2962 - accuracy: 0.8909\n",
            "Epoch 5/10\n",
            "1875/1875 [==============================] - 4s 2ms/step - loss: 0.2774 - accuracy: 0.8959\n",
            "Epoch 6/10\n",
            "1875/1875 [==============================] - 4s 2ms/step - loss: 0.2625 - accuracy: 0.9021\n",
            "Epoch 7/10\n",
            "1875/1875 [==============================] - 4s 2ms/step - loss: 0.2500 - accuracy: 0.9063\n",
            "Epoch 8/10\n",
            "1875/1875 [==============================] - 4s 2ms/step - loss: 0.2384 - accuracy: 0.9111\n",
            "Epoch 9/10\n",
            "1875/1875 [==============================] - 4s 2ms/step - loss: 0.2278 - accuracy: 0.9142\n",
            "Epoch 10/10\n",
            "1875/1875 [==============================] - 4s 2ms/step - loss: 0.2190 - accuracy: 0.9182\n"
          ],
          "name": "stdout"
        },
        {
          "output_type": "execute_result",
          "data": {
            "text/plain": [
              "<tensorflow.python.keras.callbacks.History at 0x7f26c034f4e0>"
            ]
          },
          "metadata": {
            "tags": []
          },
          "execution_count": 7
        }
      ]
    },
    {
      "cell_type": "code",
      "metadata": {
        "id": "TWTO1ZcgpgcQ",
        "colab_type": "code",
        "colab": {
          "base_uri": "https://localhost:8080/",
          "height": 51
        },
        "outputId": "0113c6f9-ef95-4cb0-d301-2c2d259a18c7"
      },
      "source": [
        "#evaluate the model\n",
        "model.evaluate(test_images,test_labels)"
      ],
      "execution_count": null,
      "outputs": [
        {
          "output_type": "stream",
          "text": [
            "313/313 [==============================] - 1s 2ms/step - loss: 0.3407 - accuracy: 0.8841\n"
          ],
          "name": "stdout"
        },
        {
          "output_type": "execute_result",
          "data": {
            "text/plain": [
              "[0.3406769335269928, 0.8841000199317932]"
            ]
          },
          "metadata": {
            "tags": []
          },
          "execution_count": 20
        }
      ]
    },
    {
      "cell_type": "code",
      "metadata": {
        "id": "TA2CDSrirfVU",
        "colab_type": "code",
        "colab": {
          "base_uri": "https://localhost:8080/",
          "height": 34
        },
        "outputId": "e2056787-deb8-46e6-e661-74df012f340a"
      },
      "source": [
        "#Exercise1\n",
        "classifications=model.predict(test_images)\n",
        "print(classifications[0])"
      ],
      "execution_count": null,
      "outputs": [
        {
          "output_type": "stream",
          "text": [
            "[7.6677944e-09 3.2338385e-12 3.5992467e-10 2.5065783e-12 5.9351711e-11 6.5712658e-05 2.0807742e-09 9.8932453e-04 5.4298960e-07 9.9894434e-01]\n"
          ],
          "name": "stdout"
        }
      ]
    },
    {
      "cell_type": "code",
      "metadata": {
        "id": "yWaDOvcSr8B8",
        "colab_type": "code",
        "colab": {
          "base_uri": "https://localhost:8080/",
          "height": 34
        },
        "outputId": "1d1c3286-3df7-444c-8e2e-489d8cc89b69"
      },
      "source": [
        "print(test_labels[0])"
      ],
      "execution_count": null,
      "outputs": [
        {
          "output_type": "stream",
          "text": [
            "9\n"
          ],
          "name": "stdout"
        }
      ]
    },
    {
      "cell_type": "code",
      "metadata": {
        "id": "QvwxQ4j7sNCU",
        "colab_type": "code",
        "colab": {
          "base_uri": "https://localhost:8080/",
          "height": 282
        },
        "outputId": "c1d9ce75-d968-4003-c4a5-0f2b8a8f377a"
      },
      "source": [
        "plt.imshow(test_images[0])\n",
        "print(test_labels[0])"
      ],
      "execution_count": null,
      "outputs": [
        {
          "output_type": "stream",
          "text": [
            "9\n"
          ],
          "name": "stdout"
        },
        {
          "output_type": "display_data",
          "data": {
            "image/png": "[encoded data removed]",
            "text/plain": [
              "<Figure size 432x288 with 1 Axes>"
            ]
          },
          "metadata": {
            "tags": [],
            "needs_background": "light"
          }
        }
      ]
    },
    {
      "cell_type": "code",
      "metadata": {
        "id": "2SYqPF5Et15_",
        "colab_type": "code",
        "colab": {
          "base_uri": "https://localhost:8080/",
          "height": 289
        },
        "outputId": "14f5b53b-95c9-41af-b2ad-1b9d1d171586"
      },
      "source": [
        "#Exercise2\n",
        "import tensorflow as tf\n",
        "print(tf.__version__)\n",
        "\n",
        "mnist = tf.keras.datasets.mnist\n",
        "\n",
        "(training_images, training_labels) ,  (test_images, test_labels) = mnist.load_data()\n",
        "\n",
        "training_images = training_images/255.0\n",
        "test_images = test_images/255.0\n",
        "\n",
        "model = tf.keras.models.Sequential([tf.keras.layers.Flatten(),\n",
        "                                    tf.keras.layers.Dense(64, activation=tf.nn.relu),\n",
        "                                    tf.keras.layers.Dense(5, activation=tf.nn.softmax)])\n",
        "\n",
        "model.compile(optimizer = 'adam',\n",
        "              loss = 'sparse_categorical_crossentropy')\n",
        "\n",
        "model.fit(training_images, training_labels, epochs=5)\n",
        "\n",
        "model.evaluate(test_images, test_labels)\n",
        "\n",
        "classifications = model.predict(test_images)\n",
        "\n",
        "print(classifications[0])\n",
        "print(test_labels[0])"
      ],
      "execution_count": null,
      "outputs": [
        {
          "output_type": "stream",
          "text": [
            "2.2.0\n",
            "Downloading data from https://storage.googleapis.com/tensorflow/tf-keras-datasets/mnist.npz\n",
            "11493376/11490434 [==============================] - 0s 0us/step\n",
            "Epoch 1/5\n",
            "1875/1875 [==============================] - 3s 2ms/step - loss: nan\n",
            "Epoch 2/5\n",
            "1875/1875 [==============================] - 3s 2ms/step - loss: nan\n",
            "Epoch 3/5\n",
            "1875/1875 [==============================] - 3s 2ms/step - loss: nan\n",
            "Epoch 4/5\n",
            "1875/1875 [==============================] - 3s 2ms/step - loss: nan\n",
            "Epoch 5/5\n",
            "1875/1875 [==============================] - 3s 2ms/step - loss: nan\n",
            "313/313 [==============================] - 0s 2ms/step - loss: nan\n",
            "[nan nan nan nan nan]\n",
            "7\n"
          ],
          "name": "stdout"
        }
      ]
    },
    {
      "cell_type": "code",
      "metadata": {
        "id": "sikl0QKADxK2",
        "colab_type": "code",
        "colab": {
          "base_uri": "https://localhost:8080/",
          "height": 663
        },
        "outputId": "b046d076-4896-47ef-dea1-4d3677624f59"
      },
      "source": [
        "#Exercise 6\n",
        "mnist = tf.keras.datasets.mnist\n",
        "(training_images,training_labels),(test_images,test_labels)=mnist.load_data()\n",
        "#training_images = training_images/255\n",
        "#test_images= test_images/255\n",
        "\n",
        "model = tf.keras.models.Sequential([tf.keras.layers.Flatten(),\n",
        "                                    tf.keras.layers.Dense(128,activation=tf.nn.relu),\n",
        "                                    tf.keras.layers.Dense(10,activation=tf.nn.softmax)])\n",
        "model.compile(optimizer='adam',loss='sparse_categorical_crossentropy')\n",
        "model.fit(training_images,training_labels,epochs=15)\n",
        "model.evaluate(test_images,test_labels)\n",
        "model.predict(test_images)\n",
        "                                                                          "
      ],
      "execution_count": null,
      "outputs": [
        {
          "output_type": "stream",
          "text": [
            "Epoch 1/15\n",
            "1875/1875 [==============================] - 3s 2ms/step - loss: 2.8723\n",
            "Epoch 2/15\n",
            "1875/1875 [==============================] - 3s 2ms/step - loss: 0.3901\n",
            "Epoch 3/15\n",
            "1875/1875 [==============================] - 3s 2ms/step - loss: 0.2812\n",
            "Epoch 4/15\n",
            "1875/1875 [==============================] - 3s 2ms/step - loss: 0.2579\n",
            "Epoch 5/15\n",
            "1875/1875 [==============================] - 3s 2ms/step - loss: 0.2161\n",
            "Epoch 6/15\n",
            "1875/1875 [==============================] - 3s 2ms/step - loss: 0.2020\n",
            "Epoch 7/15\n",
            "1875/1875 [==============================] - 3s 2ms/step - loss: 0.1964\n",
            "Epoch 8/15\n",
            "1875/1875 [==============================] - 3s 2ms/step - loss: 0.1877\n",
            "Epoch 9/15\n",
            "1875/1875 [==============================] - 3s 2ms/step - loss: 0.1847\n",
            "Epoch 10/15\n",
            "1875/1875 [==============================] - 3s 2ms/step - loss: 0.1789\n",
            "Epoch 11/15\n",
            "1875/1875 [==============================] - 3s 2ms/step - loss: 0.1625\n",
            "Epoch 12/15\n",
            "1875/1875 [==============================] - 3s 2ms/step - loss: 0.1651\n",
            "Epoch 13/15\n",
            "1875/1875 [==============================] - 3s 2ms/step - loss: 0.1597\n",
            "Epoch 14/15\n",
            "1875/1875 [==============================] - 3s 2ms/step - loss: 0.1575\n",
            "Epoch 15/15\n",
            "1875/1875 [==============================] - 3s 2ms/step - loss: 0.1602\n",
            "313/313 [==============================] - 1s 2ms/step - loss: 0.3129\n"
          ],
          "name": "stdout"
        },
        {
          "output_type": "execute_result",
          "data": {
            "text/plain": [
              "array([[1.8511297e-28, 5.8109205e-11, 1.1228755e-18, ..., 1.0000000e+00, 2.2868850e-22, 1.9048959e-13],\n",
              "       [3.6736449e-25, 1.1146785e-23, 1.0000000e+00, ..., 6.4541330e-20, 2.5289051e-25, 0.0000000e+00],\n",
              "       [1.2724147e-31, 9.9999976e-01, 1.4452989e-08, ..., 6.6546093e-14, 1.4686199e-07, 3.2797536e-12],\n",
              "       ...,\n",
              "       [0.0000000e+00, 1.1133332e-20, 2.1984443e-23, ..., 1.7742561e-19, 1.3261318e-12, 1.9246027e-09],\n",
              "       [1.2550575e-28, 0.0000000e+00, 0.0000000e+00, ..., 4.2555483e-29, 7.4349945e-17, 0.0000000e+00],\n",
              "       [1.2844405e-17, 7.5275042e-35, 1.5075001e-32, ..., 0.0000000e+00, 2.3854701e-15, 2.5244946e-37]], dtype=float32)"
            ]
          },
          "metadata": {
            "tags": []
          },
          "execution_count": 26
        }
      ]
    },
    {
      "cell_type": "code",
      "metadata": {
        "id": "czPlyNvHGho-",
        "colab_type": "code",
        "colab": {
          "base_uri": "https://localhost:8080/",
          "height": 316
        },
        "outputId": "b694c2c1-9782-4244-b509-6ad802053914"
      },
      "source": [
        "classifications = model.predict(test_images)\n",
        "print(classifications[66])\n",
        "print(test_labels[66])\n",
        "plt.imshow(test_images[66])"
      ],
      "execution_count": null,
      "outputs": [
        {
          "output_type": "stream",
          "text": [
            "[5.6283739e-08 1.9015220e-21 2.4018027e-16 6.2157396e-19 6.7626213e-15 1.0935769e-08 9.9999940e-01 7.3929122e-23 5.5695557e-07 2.2597986e-24]\n",
            "6\n"
          ],
          "name": "stdout"
        },
        {
          "output_type": "execute_result",
          "data": {
            "text/plain": [
              "<matplotlib.image.AxesImage at 0x7f266404d9e8>"
            ]
          },
          "metadata": {
            "tags": []
          },
          "execution_count": 28
        },
        {
          "output_type": "display_data",
          "data": {
            "image/png": "[encoded data removed]",
            "text/plain": [
              "<Figure size 432x288 with 1 Axes>"
            ]
          },
          "metadata": {
            "tags": [],
            "needs_background": "light"
          }
        }
      ]
    },
    {
      "cell_type": "code",
      "metadata": {
        "id": "0OFPf4fIIxp5",
        "colab_type": "code",
        "colab": {
          "base_uri": "https://localhost:8080/",
          "height": 136
        },
        "outputId": "e98c27b0-b483-4c08-9a92-14882375d656"
      },
      "source": [
        "class myCallback(tf.keras.callbacks.Callback):\n",
        "  def on_epoch_end(self,epoch,logs={}):\n",
        "   if(logs.get('loss')<0.4):\n",
        "     print('\\nReached 60% accuracy so cancelling training')\n",
        "     self.model.stop_training=True\n",
        "\n",
        "callbacks = myCallback()\n",
        "mnist = tf.keras.datasets.fashion_mnist\n",
        "(training_images, training_labels), (test_images, test_labels) = mnist.load_data()\n",
        "training_images=training_images/255.0\n",
        "test_images=test_images/255.0\n",
        "model = tf.keras.models.Sequential([\n",
        "  tf.keras.layers.Flatten(),\n",
        "  tf.keras.layers.Dense(512, activation=tf.nn.relu),\n",
        "  tf.keras.layers.Dense(10, activation=tf.nn.softmax)\n",
        "])\n",
        "model.compile(optimizer='adam', loss='sparse_categorical_crossentropy')\n",
        "model.fit(training_images, training_labels, epochs=5, callbacks=[callbacks])"
      ],
      "execution_count": null,
      "outputs": [
        {
          "output_type": "stream",
          "text": [
            "Epoch 1/5\n",
            "1875/1875 [==============================] - 3s 2ms/step - loss: 0.4730\n",
            "Epoch 2/5\n",
            "1848/1875 [============================>.] - ETA: 0s - loss: 0.3561\n",
            "Reached 60% accuracy so cancelling training\n",
            "1875/1875 [==============================] - 3s 2ms/step - loss: 0.3562\n"
          ],
          "name": "stdout"
        },
        {
          "output_type": "execute_result",
          "data": {
            "text/plain": [
              "<tensorflow.python.keras.callbacks.History at 0x7f26640779b0>"
            ]
          },
          "metadata": {
            "tags": []
          },
          "execution_count": 30
        }
      ]
    },
    {
      "cell_type": "code",
      "metadata": {
        "id": "_s1S0-l0M9Xd",
        "colab_type": "code",
        "colab": {
          "base_uri": "https://localhost:8080/",
          "height": 374
        },
        "outputId": "033e2adc-6bf3-406f-bedc-29d47d26bab5"
      },
      "source": [
        "import tensorflow as tf\n",
        "#Exploring callbacks\n",
        "class myCallback(tf.keras.callbacks.Callback):\n",
        "  def on_epoch_end(self,epoch,logs={}):\n",
        "    if(logs.get('accuracy')>0.95):\n",
        "      print(f'\\nAccuracy reached 95%, so cancelling training')\n",
        "      self.model.stop_training=True\n",
        "\n",
        "mnist=tf.keras.datasets.fashion_mnist\n",
        "(x_train,y_train),(x_test,y_test) = mnist.load_data()\n",
        "x_train,x_test = x_train/255.0, x_test/255.0\n",
        "\n",
        "callbacks=myCallback()\n",
        "\n",
        "model = tf.keras.models.Sequential([tf.keras.layers.Flatten(input_shape=(28,28)),\n",
        "                                    tf.keras.layers.Dense(512,activation=tf.nn.relu),\n",
        "                                    tf.keras.layers.Dense(10,activation=tf.nn.softmax)])\n",
        "\n",
        "model.compile(optimizer = tf.keras.optimizers.Adam(),\n",
        "              loss = 'sparse_categorical_crossentropy',\n",
        "              metrics=['accuracy'])\n",
        "\n",
        "model.fit(x_train,y_train,epochs=10,callbacks=[callbacks])"
      ],
      "execution_count": 10,
      "outputs": [
        {
          "output_type": "stream",
          "text": [
            "Epoch 1/10\n",
            "1875/1875 [==============================] - 3s 2ms/step - loss: 0.4711 - accuracy: 0.8318\n",
            "Epoch 2/10\n",
            "1875/1875 [==============================] - 3s 2ms/step - loss: 0.3598 - accuracy: 0.8683\n",
            "Epoch 3/10\n",
            "1875/1875 [==============================] - 3s 2ms/step - loss: 0.3214 - accuracy: 0.8821\n",
            "Epoch 4/10\n",
            "1875/1875 [==============================] - 3s 2ms/step - loss: 0.2995 - accuracy: 0.8888\n",
            "Epoch 5/10\n",
            "1875/1875 [==============================] - 3s 2ms/step - loss: 0.2796 - accuracy: 0.8960\n",
            "Epoch 6/10\n",
            "1875/1875 [==============================] - 4s 2ms/step - loss: 0.2657 - accuracy: 0.9019\n",
            "Epoch 7/10\n",
            "1875/1875 [==============================] - 3s 2ms/step - loss: 0.2530 - accuracy: 0.9057\n",
            "Epoch 8/10\n",
            "1875/1875 [==============================] - 3s 2ms/step - loss: 0.2404 - accuracy: 0.9099\n",
            "Epoch 9/10\n",
            "1875/1875 [==============================] - 3s 2ms/step - loss: 0.2295 - accuracy: 0.9133\n",
            "Epoch 10/10\n",
            "1875/1875 [==============================] - 3s 2ms/step - loss: 0.2188 - accuracy: 0.9173\n"
          ],
          "name": "stdout"
        },
        {
          "output_type": "execute_result",
          "data": {
            "text/plain": [
              "<tensorflow.python.keras.callbacks.History at 0x7f096806d5c0>"
            ]
          },
          "metadata": {
            "tags": []
          },
          "execution_count": 10
        }
      ]
    }
  ]
}